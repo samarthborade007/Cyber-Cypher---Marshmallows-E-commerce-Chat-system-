{
  "cells": [
    {
      "cell_type": "code",
      "execution_count": 1,
      "metadata": {
        "_cell_guid": "b1076dfc-b9ad-4769-8c92-a6c4dae69d19",
        "_uuid": "8f2839f25d086af736a60e9eeb907d3b93b6e0e5",
        "colab": {
          "base_uri": "https://localhost:8080/",
          "height": 397
        },
        "id": "p623_W7Bqjnu",
        "outputId": "5cbc1b76-530e-4c80-917a-476281106b5f",
        "trusted": true
      },
      "outputs": [
        {
          "data": {
            "text/html": [
              "<div>\n",
              "<style scoped>\n",
              "    .dataframe tbody tr th:only-of-type {\n",
              "        vertical-align: middle;\n",
              "    }\n",
              "\n",
              "    .dataframe tbody tr th {\n",
              "        vertical-align: top;\n",
              "    }\n",
              "\n",
              "    .dataframe thead th {\n",
              "        text-align: right;\n",
              "    }\n",
              "</style>\n",
              "<table border=\"1\" class=\"dataframe\">\n",
              "  <thead>\n",
              "    <tr style=\"text-align: right;\">\n",
              "      <th></th>\n",
              "      <th>index</th>\n",
              "      <th>product</th>\n",
              "      <th>category</th>\n",
              "      <th>sub_category</th>\n",
              "      <th>brand</th>\n",
              "      <th>sale_price</th>\n",
              "      <th>market_price</th>\n",
              "      <th>type</th>\n",
              "      <th>rating</th>\n",
              "      <th>description</th>\n",
              "    </tr>\n",
              "  </thead>\n",
              "  <tbody>\n",
              "    <tr>\n",
              "      <th>0</th>\n",
              "      <td>1</td>\n",
              "      <td>Garlic Oil - Vegetarian Capsule 500 mg</td>\n",
              "      <td>Beauty &amp; Hygiene</td>\n",
              "      <td>Hair Care</td>\n",
              "      <td>Sri Sri Ayurveda</td>\n",
              "      <td>220.0</td>\n",
              "      <td>220.0</td>\n",
              "      <td>Hair Oil &amp; Serum</td>\n",
              "      <td>4.1</td>\n",
              "      <td>This Product contains Garlic Oil that is known...</td>\n",
              "    </tr>\n",
              "    <tr>\n",
              "      <th>1</th>\n",
              "      <td>2</td>\n",
              "      <td>Water Bottle - Orange</td>\n",
              "      <td>Kitchen, Garden &amp; Pets</td>\n",
              "      <td>Storage &amp; Accessories</td>\n",
              "      <td>Mastercook</td>\n",
              "      <td>180.0</td>\n",
              "      <td>180.0</td>\n",
              "      <td>Water &amp; Fridge Bottles</td>\n",
              "      <td>2.3</td>\n",
              "      <td>Each product is microwave safe (without lid), ...</td>\n",
              "    </tr>\n",
              "    <tr>\n",
              "      <th>2</th>\n",
              "      <td>3</td>\n",
              "      <td>Brass Angle Deep - Plain, No.2</td>\n",
              "      <td>Cleaning &amp; Household</td>\n",
              "      <td>Pooja Needs</td>\n",
              "      <td>Trm</td>\n",
              "      <td>119.0</td>\n",
              "      <td>250.0</td>\n",
              "      <td>Lamp &amp; Lamp Oil</td>\n",
              "      <td>3.4</td>\n",
              "      <td>A perfect gift for all occasions, be it your m...</td>\n",
              "    </tr>\n",
              "    <tr>\n",
              "      <th>3</th>\n",
              "      <td>4</td>\n",
              "      <td>Cereal Flip Lid Container/Storage Jar - Assort...</td>\n",
              "      <td>Cleaning &amp; Household</td>\n",
              "      <td>Bins &amp; Bathroom Ware</td>\n",
              "      <td>Nakoda</td>\n",
              "      <td>149.0</td>\n",
              "      <td>176.0</td>\n",
              "      <td>Laundry, Storage Baskets</td>\n",
              "      <td>3.7</td>\n",
              "      <td>Multipurpose container with an attractive desi...</td>\n",
              "    </tr>\n",
              "    <tr>\n",
              "      <th>4</th>\n",
              "      <td>5</td>\n",
              "      <td>Creme Soft Soap - For Hands &amp; Body</td>\n",
              "      <td>Beauty &amp; Hygiene</td>\n",
              "      <td>Bath &amp; Hand Wash</td>\n",
              "      <td>Nivea</td>\n",
              "      <td>162.0</td>\n",
              "      <td>162.0</td>\n",
              "      <td>Bathing Bars &amp; Soaps</td>\n",
              "      <td>4.4</td>\n",
              "      <td>Nivea Creme Soft Soap gives your skin the best...</td>\n",
              "    </tr>\n",
              "  </tbody>\n",
              "</table>\n",
              "</div>"
            ],
            "text/plain": [
              "   index                                            product  \\\n",
              "0      1             Garlic Oil - Vegetarian Capsule 500 mg   \n",
              "1      2                              Water Bottle - Orange   \n",
              "2      3                     Brass Angle Deep - Plain, No.2   \n",
              "3      4  Cereal Flip Lid Container/Storage Jar - Assort...   \n",
              "4      5                 Creme Soft Soap - For Hands & Body   \n",
              "\n",
              "                 category           sub_category              brand  \\\n",
              "0        Beauty & Hygiene              Hair Care  Sri Sri Ayurveda    \n",
              "1  Kitchen, Garden & Pets  Storage & Accessories         Mastercook   \n",
              "2    Cleaning & Household            Pooja Needs                Trm   \n",
              "3    Cleaning & Household   Bins & Bathroom Ware             Nakoda   \n",
              "4        Beauty & Hygiene       Bath & Hand Wash              Nivea   \n",
              "\n",
              "   sale_price  market_price                      type  rating  \\\n",
              "0       220.0         220.0          Hair Oil & Serum     4.1   \n",
              "1       180.0         180.0    Water & Fridge Bottles     2.3   \n",
              "2       119.0         250.0           Lamp & Lamp Oil     3.4   \n",
              "3       149.0         176.0  Laundry, Storage Baskets     3.7   \n",
              "4       162.0         162.0      Bathing Bars & Soaps     4.4   \n",
              "\n",
              "                                         description  \n",
              "0  This Product contains Garlic Oil that is known...  \n",
              "1  Each product is microwave safe (without lid), ...  \n",
              "2  A perfect gift for all occasions, be it your m...  \n",
              "3  Multipurpose container with an attractive desi...  \n",
              "4  Nivea Creme Soft Soap gives your skin the best...  "
            ]
          },
          "execution_count": 1,
          "metadata": {},
          "output_type": "execute_result"
        }
      ],
      "source": [
        "import pandas as pd\n",
        "from sklearn.feature_extraction.text import TfidfVectorizer\n",
        "from sklearn.metrics.pairwise import linear_kernel\n",
        "from sklearn.preprocessing import MinMaxScaler\n",
        "import pandas as pd\n",
        "from sklearn.preprocessing import LabelEncoder, MinMaxScaler\n",
        "from sklearn.model_selection import train_test_split\n",
        "from sklearn.feature_extraction.text import TfidfVectorizer\n",
        "from tensorflow.keras.preprocessing.sequence import pad_sequences\n",
        "from tensorflow.keras.preprocessing.text import Tokenizer\n",
        "\n",
        "# Load the dataset\n",
        "file_path = '../BigBasket Products.csv'\n",
        "data = pd.read_csv(file_path)\n",
        "\n",
        "# Display the first few rows of the dataset to understand its structure\n",
        "data.head()\n"
      ]
    },
    {
      "cell_type": "code",
      "execution_count": 2,
      "metadata": {
        "colab": {
          "base_uri": "https://localhost:8080/"
        },
        "id": "RLkR4jReqjnw",
        "outputId": "2b790a08-fe7c-40f9-cfd8-bdcf4d4e1a94"
      },
      "outputs": [
        {
          "data": {
            "text/plain": [
              "(index              0\n",
              " product            1\n",
              " category           0\n",
              " sub_category       0\n",
              " brand              1\n",
              " sale_price         0\n",
              " market_price       0\n",
              " type               0\n",
              " rating          8626\n",
              " description      115\n",
              " dtype: int64,\n",
              " 0,\n",
              " count    18929.000000\n",
              " mean         3.943410\n",
              " std          0.739063\n",
              " min          1.000000\n",
              " 25%          3.700000\n",
              " 50%          4.100000\n",
              " 75%          4.300000\n",
              " max          5.000000\n",
              " Name: rating, dtype: float64)"
            ]
          },
          "execution_count": 2,
          "metadata": {},
          "output_type": "execute_result"
        }
      ],
      "source": [
        "# Checking for missing values\n",
        "missing_values = data.isnull().sum()\n",
        "\n",
        "# Checking for duplicate entries\n",
        "duplicate_entries = data.duplicated().sum()\n",
        "\n",
        "# Overview of the rating distribution\n",
        "rating_distribution = data['rating'].describe()\n",
        "\n",
        "missing_values, duplicate_entries, rating_distribution\n"
      ]
    },
    {
      "cell_type": "code",
      "execution_count": 3,
      "metadata": {
        "id": "n4euO5RQqjnx"
      },
      "outputs": [],
      "source": [
        "\n",
        "# Drop rows with missing 'rating' as they are critical for popularity-based recommendations\n",
        "data.dropna(subset=['rating'], inplace=True)\n",
        "\n",
        "categorical_features = ['category','sub_category','brand']\n",
        "label_encoders = {}\n",
        "\n",
        "for feature in categorical_features:\n",
        "    le = LabelEncoder()\n",
        "    data[feature] = le.fit_transform(data[feature].astype(str))  # Use 'le' instead of 'encoder'\n",
        "    label_encoders[feature] = le\n",
        "\n",
        "data['description'] = data['description'].astype(str)\n",
        "\n",
        "# Now, proceed with tokenizing the text data\n",
        "tokenizer = Tokenizer()\n",
        "tokenizer.fit_on_texts(data['description'])\n",
        "text_sequences = tokenizer.texts_to_sequences(data['description'])\n",
        "text_padded = pad_sequences(text_sequences, maxlen=100)\n",
        "\n",
        "# Normalize numerical features\n",
        "scaler = MinMaxScaler()\n",
        "data['rating'] = scaler.fit_transform(data[['rating']])\n",
        "\n",
        "# Split data into training and test sets\n",
        "X_train, X_test, y_train, y_test = train_test_split(text_padded, data['rating'], test_size=0.2, random_state=42)\n"
      ]
    },
    {
      "cell_type": "code",
      "execution_count": 4,
      "metadata": {
        "colab": {
          "base_uri": "https://localhost:8080/"
        },
        "id": "1Sc0bOzxqjnx",
        "outputId": "42b9af68-b731-40cd-ada3-fce38e37e939"
      },
      "outputs": [
        {
          "name": "stderr",
          "output_type": "stream",
          "text": [
            "2024-02-09 05:38:06.147509: I metal_plugin/src/device/metal_device.cc:1154] Metal device set to: Apple M2\n",
            "2024-02-09 05:38:06.148760: I metal_plugin/src/device/metal_device.cc:296] systemMemory: 8.00 GB\n",
            "2024-02-09 05:38:06.148770: I metal_plugin/src/device/metal_device.cc:313] maxCacheSize: 2.67 GB\n",
            "2024-02-09 05:38:06.150262: I tensorflow/core/common_runtime/pluggable_device/pluggable_device_factory.cc:306] Could not identify NUMA node of platform GPU ID 0, defaulting to 0. Your kernel may not have been built with NUMA support.\n",
            "2024-02-09 05:38:06.150890: I tensorflow/core/common_runtime/pluggable_device/pluggable_device_factory.cc:272] Created TensorFlow device (/job:localhost/replica:0/task:0/device:GPU:0 with 0 MB memory) -> physical PluggableDevice (device: 0, name: METAL, pci bus id: <undefined>)\n"
          ]
        },
        {
          "name": "stdout",
          "output_type": "stream",
          "text": [
            "Model: \"model\"\n",
            "_________________________________________________________________\n",
            " Layer (type)                Output Shape              Param #   \n",
            "=================================================================\n",
            " input_1 (InputLayer)        [(None, 100)]             0         \n",
            "                                                                 \n",
            " dense (Dense)               (None, 128)               12928     \n",
            "                                                                 \n",
            " dense_1 (Dense)             (None, 64)                8256      \n",
            "                                                                 \n",
            " dense_2 (Dense)             (None, 64)                4160      \n",
            "                                                                 \n",
            " dense_3 (Dense)             (None, 128)               8320      \n",
            "                                                                 \n",
            " dense_4 (Dense)             (None, 100)               12900     \n",
            "                                                                 \n",
            "=================================================================\n",
            "Total params: 46564 (181.89 KB)\n",
            "Trainable params: 46564 (181.89 KB)\n",
            "Non-trainable params: 0 (0.00 Byte)\n",
            "_________________________________________________________________\n"
          ]
        }
      ],
      "source": [
        "import tensorflow as tf\n",
        "from tensorflow.keras.models import Model\n",
        "from tensorflow.keras.layers import Input, Dense, Embedding, Flatten, Dropout\n",
        "\n",
        "input_dim = text_padded.shape[1]  # This is the maxlen of your text sequences\n",
        "\n",
        "# Define the encoder\n",
        "input_layer = Input(shape=(input_dim,))\n",
        "encoded = Dense(128, activation='relu')(input_layer)\n",
        "encoded = Dense(64, activation='relu')(encoded)\n",
        "\n",
        "# Define the decoder\n",
        "decoded = Dense(64, activation='relu')(encoded)\n",
        "decoded = Dense(128, activation='relu')(decoded)\n",
        "output_layer = Dense(input_dim, activation='sigmoid')(decoded)\n",
        "\n",
        "# Compile the autoencoder\n",
        "autoencoder = Model(input_layer, output_layer)\n",
        "autoencoder.compile(optimizer='adam', loss='binary_crossentropy')\n",
        "\n",
        "# Summary of the model\n",
        "autoencoder.summary()\n"
      ]
    },
    {
      "cell_type": "code",
      "execution_count": 5,
      "metadata": {
        "colab": {
          "base_uri": "https://localhost:8080/"
        },
        "id": "PeuQivYlqjnx",
        "outputId": "2932661e-bcb3-4979-a0c7-1b9c3ce84098"
      },
      "outputs": [
        {
          "name": "stdout",
          "output_type": "stream",
          "text": [
            "Epoch 1/50\n"
          ]
        },
        {
          "name": "stderr",
          "output_type": "stream",
          "text": [
            "2024-02-09 05:38:06.842047: I tensorflow/core/grappler/optimizers/custom_graph_optimizer_registry.cc:117] Plugin optimizer for device_type GPU is enabled.\n"
          ]
        },
        {
          "name": "stdout",
          "output_type": "stream",
          "text": [
            "48/48 [==============================] - 1s 12ms/step - loss: -184084656.0000 - val_loss: -1263619200.0000\n",
            "Epoch 2/50\n",
            "48/48 [==============================] - 0s 7ms/step - loss: -18208225280.0000 - val_loss: -68522754048.0000\n",
            "Epoch 3/50\n",
            "48/48 [==============================] - 0s 7ms/step - loss: -309768060928.0000 - val_loss: -821679226880.0000\n",
            "Epoch 4/50\n",
            "48/48 [==============================] - 0s 7ms/step - loss: -2280959770624.0000 - val_loss: -4797118808064.0000\n",
            "Epoch 5/50\n",
            "48/48 [==============================] - 0s 7ms/step - loss: -10241957691392.0000 - val_loss: -18385010163712.0000\n",
            "Epoch 6/50\n",
            "48/48 [==============================] - 0s 7ms/step - loss: -33159523598336.0000 - val_loss: -53824865697792.0000\n",
            "Epoch 7/50\n",
            "48/48 [==============================] - 0s 7ms/step - loss: -87332279549952.0000 - val_loss: -131075405774848.0000\n",
            "Epoch 8/50\n",
            "48/48 [==============================] - 0s 7ms/step - loss: -197824012615680.0000 - val_loss: -279861578956800.0000\n",
            "Epoch 9/50\n",
            "48/48 [==============================] - 0s 7ms/step - loss: -397684947025920.0000 - val_loss: -540654610415616.0000\n",
            "Epoch 10/50\n",
            "48/48 [==============================] - 0s 7ms/step - loss: -734227544932352.0000 - val_loss: -963369351774208.0000\n",
            "Epoch 11/50\n",
            "48/48 [==============================] - 0s 7ms/step - loss: -1263838284480512.0000 - val_loss: -1613673839722496.0000\n",
            "Epoch 12/50\n",
            "48/48 [==============================] - 0s 8ms/step - loss: -2058966251077632.0000 - val_loss: -2565857754480640.0000\n",
            "Epoch 13/50\n",
            "48/48 [==============================] - 0s 7ms/step - loss: -3201447416037376.0000 - val_loss: -3906049954283520.0000\n",
            "Epoch 14/50\n",
            "48/48 [==============================] - 0s 7ms/step - loss: -4789444733304832.0000 - val_loss: -5737969470144512.0000\n",
            "Epoch 15/50\n",
            "48/48 [==============================] - 0s 7ms/step - loss: -6925613289963520.0000 - val_loss: -8181121351155712.0000\n",
            "Epoch 16/50\n",
            "48/48 [==============================] - 0s 7ms/step - loss: -9739030543466496.0000 - val_loss: -11360681345417216.0000\n",
            "Epoch 17/50\n",
            "48/48 [==============================] - 0s 7ms/step - loss: -13348009957916672.0000 - val_loss: -15416831279890432.0000\n",
            "Epoch 18/50\n",
            "48/48 [==============================] - 0s 7ms/step - loss: -17933213963911168.0000 - val_loss: -20511035081359360.0000\n",
            "Epoch 19/50\n",
            "48/48 [==============================] - 0s 7ms/step - loss: -23653224565178368.0000 - val_loss: -26799973156782080.0000\n",
            "Epoch 20/50\n",
            "48/48 [==============================] - 0s 7ms/step - loss: -30658097181622272.0000 - val_loss: -34529718141190144.0000\n",
            "Epoch 21/50\n",
            "48/48 [==============================] - 0s 7ms/step - loss: -39157762298478592.0000 - val_loss: -43744722946097152.0000\n",
            "Epoch 22/50\n",
            "48/48 [==============================] - 0s 7ms/step - loss: -49307281120034816.0000 - val_loss: -54762001255104512.0000\n",
            "Epoch 23/50\n",
            "48/48 [==============================] - 0s 7ms/step - loss: -61395191696719872.0000 - val_loss: -67727850391732224.0000\n",
            "Epoch 24/50\n",
            "48/48 [==============================] - 0s 7ms/step - loss: -75597085176496128.0000 - val_loss: -82996824201232384.0000\n",
            "Epoch 25/50\n",
            "48/48 [==============================] - 0s 7ms/step - loss: -92138335673253888.0000 - val_loss: -100672684798509056.0000\n",
            "Epoch 26/50\n",
            "48/48 [==============================] - 0s 7ms/step - loss: -111295143943864320.0000 - val_loss: -121066237491937280.0000\n",
            "Epoch 27/50\n",
            "48/48 [==============================] - 0s 10ms/step - loss: -133316248724307968.0000 - val_loss: -144616823076159488.0000\n",
            "Epoch 28/50\n",
            "48/48 [==============================] - 0s 7ms/step - loss: -158568852538523648.0000 - val_loss: -171287436112953344.0000\n",
            "Epoch 29/50\n",
            "48/48 [==============================] - 0s 7ms/step - loss: -187133546152853504.0000 - val_loss: -201496500906229760.0000\n",
            "Epoch 30/50\n",
            "48/48 [==============================] - 0s 7ms/step - loss: -219364784628301824.0000 - val_loss: -235353126805176320.0000\n",
            "Epoch 31/50\n",
            "48/48 [==============================] - 0s 8ms/step - loss: -255467489444495360.0000 - val_loss: -273442511693807616.0000\n",
            "Epoch 32/50\n",
            "48/48 [==============================] - 0s 7ms/step - loss: -295944206134804480.0000 - val_loss: -315849180528508928.0000\n",
            "Epoch 33/50\n",
            "48/48 [==============================] - 0s 7ms/step - loss: -341013771872894976.0000 - val_loss: -362802244044718080.0000\n",
            "Epoch 34/50\n",
            "48/48 [==============================] - 0s 7ms/step - loss: -390912873716514816.0000 - val_loss: -415416555493392384.0000\n",
            "Epoch 35/50\n",
            "48/48 [==============================] - 0s 7ms/step - loss: -446413884224438272.0000 - val_loss: -472654931812155392.0000\n",
            "Epoch 36/50\n",
            "48/48 [==============================] - 0s 8ms/step - loss: -507273433369804800.0000 - val_loss: -536247557626527744.0000\n",
            "Epoch 37/50\n",
            "48/48 [==============================] - 0s 7ms/step - loss: -574299937076936704.0000 - val_loss: -606071906109489152.0000\n",
            "Epoch 38/50\n",
            "48/48 [==============================] - 0s 7ms/step - loss: -647605133215006720.0000 - val_loss: -681678242645540864.0000\n",
            "Epoch 39/50\n",
            "48/48 [==============================] - 0s 7ms/step - loss: -727143392051462144.0000 - val_loss: -764905912748998656.0000\n",
            "Epoch 40/50\n",
            "48/48 [==============================] - 0s 7ms/step - loss: -814343460227121152.0000 - val_loss: -854369600488341504.0000\n",
            "Epoch 41/50\n",
            "48/48 [==============================] - 0s 8ms/step - loss: -908612838413565952.0000 - val_loss: -951779321322668032.0000\n",
            "Epoch 42/50\n",
            "48/48 [==============================] - 0s 8ms/step - loss: -1010407411619463168.0000 - val_loss: -1057315532597886976.0000\n",
            "Epoch 43/50\n",
            "48/48 [==============================] - 0s 7ms/step - loss: -1120699148123766784.0000 - val_loss: -1171214354436063232.0000\n",
            "Epoch 44/50\n",
            "48/48 [==============================] - 0s 7ms/step - loss: -1239588172204081152.0000 - val_loss: -1292636309709389824.0000\n",
            "Epoch 45/50\n",
            "48/48 [==============================] - 0s 7ms/step - loss: -1366955599165652992.0000 - val_loss: -1424147658557095936.0000\n",
            "Epoch 46/50\n",
            "48/48 [==============================] - 0s 7ms/step - loss: -1503769342838308864.0000 - val_loss: -1564540862333976576.0000\n",
            "Epoch 47/50\n",
            "48/48 [==============================] - 0s 7ms/step - loss: -1649920963887759360.0000 - val_loss: -1714470130458558464.0000\n",
            "Epoch 48/50\n",
            "48/48 [==============================] - 0s 7ms/step - loss: -1805564393941893120.0000 - val_loss: -1874996491651645440.0000\n",
            "Epoch 49/50\n",
            "48/48 [==============================] - 0s 7ms/step - loss: -1972306569244704768.0000 - val_loss: -2045599739474345984.0000\n",
            "Epoch 50/50\n",
            "48/48 [==============================] - 0s 7ms/step - loss: -2150161783447355392.0000 - val_loss: -2226726000769630208.0000\n"
          ]
        },
        {
          "data": {
            "text/plain": [
              "<keras.src.callbacks.History at 0x296b06d10>"
            ]
          },
          "execution_count": 5,
          "metadata": {},
          "output_type": "execute_result"
        }
      ],
      "source": [
        "autoencoder.fit(X_train, X_train, epochs=50, batch_size=256, validation_split=0.2)\n"
      ]
    },
    {
      "cell_type": "code",
      "execution_count": 6,
      "metadata": {
        "colab": {
          "base_uri": "https://localhost:8080/"
        },
        "id": "Nm-e0xv4qjnx",
        "outputId": "747fa2fb-dec0-4749-f29c-9a899b31c36d"
      },
      "outputs": [
        {
          "name": "stdout",
          "output_type": "stream",
          "text": [
            "592/592 [==============================] - 1s 899us/step\n"
          ]
        }
      ],
      "source": [
        "# Extract the encoder part of the autoencoder\n",
        "encoder_model = Model(inputs=autoencoder.input, outputs=autoencoder.layers[-3].output)  # Assuming -3 is the encoded layer\n",
        "\n",
        "# Generate embeddings for the entire dataset\n",
        "item_embeddings = encoder_model.predict(text_padded)\n"
      ]
    },
    {
      "cell_type": "code",
      "execution_count": 7,
      "metadata": {
        "id": "5xU2JziVqjnx"
      },
      "outputs": [],
      "source": [
        "from sklearn.metrics.pairwise import cosine_similarity\n",
        "\n",
        "# Compute cosine similarity matrix\n",
        "similarity_matrix = cosine_similarity(item_embeddings)\n",
        "\n",
        "def recommend_items(item_id, similarity_matrix, items, label_encoders, top_k=3):\n",
        "    # Fetch the category of the specified item\n",
        "    item_category = items.iloc[item_id]['category']\n",
        "\n",
        "    # Get similarity scores for the item\n",
        "    similarity_scores = list(enumerate(similarity_matrix[item_id]))\n",
        "\n",
        "    # Sort the items based on the similarity scores\n",
        "    similarity_scores = sorted(similarity_scores, key=lambda x: x[1], reverse=True)\n",
        "\n",
        "    # Initialize a list to hold indices of items that match the category constraint\n",
        "    filtered_indices = []\n",
        "\n",
        "    # Iterate over sorted similarity scores and filter by category\n",
        "    for idx, score in similarity_scores:\n",
        "        if items.iloc[idx]['category'] == item_category and idx != item_id:\n",
        "            filtered_indices.append(idx)\n",
        "        if len(filtered_indices) == top_k:\n",
        "            break\n",
        "\n",
        "    # Fetch the recommended items\n",
        "    recommended_items = items.iloc[filtered_indices]\n",
        "\n",
        "    # Decode the categorical features for readability\n",
        "    for feature in ['category', 'sub_category', 'brand']:\n",
        "        recommended_items[feature] = label_encoders[feature].inverse_transform(recommended_items[feature])\n",
        "\n",
        "    # Sort the recommended items in descending order of rating\n",
        "    recommended_items_sorted = recommended_items.sort_values(by='rating', ascending=False)\n",
        "\n",
        "    return recommended_items_sorted\n"
      ]
    },
    {
      "cell_type": "code",
      "execution_count": 8,
      "metadata": {
        "colab": {
          "base_uri": "https://localhost:8080/"
        },
        "id": "1J04n5kZxz5T",
        "outputId": "26283992-e0f0-46cc-ed66-1fb53f7f9496"
      },
      "outputs": [
        {
          "name": "stdout",
          "output_type": "stream",
          "text": [
            "                                                product          category  \\\n",
            "6240                      Body Deodorant - Forest Spice  Beauty & Hygiene   \n",
            "1539  Like An Ocean Breeze On A Warm Summer Day Room...  Beauty & Hygiene   \n",
            "2730                      Body Deodorant - Hydra Energy  Beauty & Hygiene   \n",
            "\n",
            "           sub_category       brand  rating  sale_price  \n",
            "6240     Men's Grooming  Wild Stone   0.425       139.3  \n",
            "1539  Fragrances & Deos      Nyassa   0.375       475.0  \n",
            "2730  Fragrances & Deos  Wild Stone   0.000       139.3  \n"
          ]
        },
        {
          "name": "stderr",
          "output_type": "stream",
          "text": [
            "/var/folders/fp/tqnwc7rd219_w0rxtd8b8pz00000gn/T/ipykernel_74485/1232832943.py:31: SettingWithCopyWarning: \n",
            "A value is trying to be set on a copy of a slice from a DataFrame.\n",
            "Try using .loc[row_indexer,col_indexer] = value instead\n",
            "\n",
            "See the caveats in the documentation: https://pandas.pydata.org/pandas-docs/stable/user_guide/indexing.html#returning-a-view-versus-a-copy\n",
            "  recommended_items[feature] = label_encoders[feature].inverse_transform(recommended_items[feature])\n",
            "/var/folders/fp/tqnwc7rd219_w0rxtd8b8pz00000gn/T/ipykernel_74485/1232832943.py:31: SettingWithCopyWarning: \n",
            "A value is trying to be set on a copy of a slice from a DataFrame.\n",
            "Try using .loc[row_indexer,col_indexer] = value instead\n",
            "\n",
            "See the caveats in the documentation: https://pandas.pydata.org/pandas-docs/stable/user_guide/indexing.html#returning-a-view-versus-a-copy\n",
            "  recommended_items[feature] = label_encoders[feature].inverse_transform(recommended_items[feature])\n",
            "/var/folders/fp/tqnwc7rd219_w0rxtd8b8pz00000gn/T/ipykernel_74485/1232832943.py:31: SettingWithCopyWarning: \n",
            "A value is trying to be set on a copy of a slice from a DataFrame.\n",
            "Try using .loc[row_indexer,col_indexer] = value instead\n",
            "\n",
            "See the caveats in the documentation: https://pandas.pydata.org/pandas-docs/stable/user_guide/indexing.html#returning-a-view-versus-a-copy\n",
            "  recommended_items[feature] = label_encoders[feature].inverse_transform(recommended_items[feature])\n"
          ]
        }
      ],
      "source": [
        "# Updated example usage\n",
        "recommended_items = recommend_items(6, similarity_matrix, data, label_encoders, top_k=3)\n",
        "print(recommended_items[['product', 'category', 'sub_category', 'brand', 'rating','sale_price']])\n"
      ]
    },
    {
      "cell_type": "code",
      "execution_count": 9,
      "metadata": {
        "colab": {
          "base_uri": "https://localhost:8080/"
        },
        "id": "xl5y288lqjny",
        "outputId": "4cf3864d-82f5-4a11-ead5-373cb80e33ba"
      },
      "outputs": [
        {
          "name": "stdout",
          "output_type": "stream",
          "text": [
            "119/119 [==============================] - 0s 3ms/step - loss: -2324926407903281152.0000\n",
            "Test Loss: -2.324926407903281e+18\n"
          ]
        }
      ],
      "source": [
        "# Evaluate the model on the test set\n",
        "test_loss = autoencoder.evaluate(X_test, X_test)\n",
        "print(f'Test Loss: {test_loss}')\n"
      ]
    },
    {
      "cell_type": "code",
      "execution_count": 10,
      "metadata": {
        "colab": {
          "base_uri": "https://localhost:8080/"
        },
        "id": "M4Fpq6emxj9c",
        "outputId": "43f9802f-9649-4b68-eb02-3f18381ae485"
      },
      "outputs": [
        {
          "data": {
            "text/plain": [
              "index                                                           1\n",
              "product                    Garlic Oil - Vegetarian Capsule 500 mg\n",
              "category                                                        2\n",
              "sub_category                                                   42\n",
              "brand                                                        1652\n",
              "sale_price                                                  220.0\n",
              "market_price                                                220.0\n",
              "type                                             Hair Oil & Serum\n",
              "rating                                                      0.775\n",
              "description     This Product contains Garlic Oil that is known...\n",
              "Name: 0, dtype: object"
            ]
          },
          "execution_count": 10,
          "metadata": {},
          "output_type": "execute_result"
        }
      ],
      "source": [
        "item_0_data = data.iloc[0]\n",
        "item_0_data"
      ]
    },
    {
      "cell_type": "code",
      "execution_count": 11,
      "metadata": {
        "colab": {
          "base_uri": "https://localhost:8080/"
        },
        "id": "btBOfVH8xk9o",
        "outputId": "1a9e9547-1836-4b03-849f-7b6ee89278f0"
      },
      "outputs": [],
      "source": [
        "from tensorflow.keras.models import load_model\n",
        "import joblib\n",
        "import pickle\n"
      ]
    },
    {
      "cell_type": "code",
      "execution_count": 12,
      "metadata": {
        "colab": {
          "base_uri": "https://localhost:8080/"
        },
        "id": "2JakQXVFC8Ap",
        "outputId": "241c3b54-4639-4e91-e82b-b66918545738"
      },
      "outputs": [
        {
          "name": "stderr",
          "output_type": "stream",
          "text": [
            "WARNING:absl:At this time, the v2.11+ optimizer `tf.keras.optimizers.Adam` runs slowly on M1/M2 Macs, please use the legacy Keras optimizer instead, located at `tf.keras.optimizers.legacy.Adam`.\n"
          ]
        },
        {
          "name": "stdout",
          "output_type": "stream",
          "text": [
            "WARNING:tensorflow:No training configuration found in the save file, so the model was *not* compiled. Compile it manually.\n"
          ]
        },
        {
          "name": "stderr",
          "output_type": "stream",
          "text": [
            "WARNING:tensorflow:No training configuration found in the save file, so the model was *not* compiled. Compile it manually.\n",
            "/Library/Frameworks/Python.framework/Versions/3.11/lib/python3.11/site-packages/sklearn/base.py:348: InconsistentVersionWarning: Trying to unpickle estimator LabelEncoder from version 1.2.2 when using version 1.3.2. This might lead to breaking code or invalid results. Use at your own risk. For more info please refer to:\n",
            "https://scikit-learn.org/stable/model_persistence.html#security-maintainability-limitations\n",
            "  warnings.warn(\n",
            "/Library/Frameworks/Python.framework/Versions/3.11/lib/python3.11/site-packages/sklearn/base.py:348: InconsistentVersionWarning: Trying to unpickle estimator MinMaxScaler from version 1.2.2 when using version 1.3.2. This might lead to breaking code or invalid results. Use at your own risk. For more info please refer to:\n",
            "https://scikit-learn.org/stable/model_persistence.html#security-maintainability-limitations\n",
            "  warnings.warn(\n"
          ]
        }
      ],
      "source": [
        "# Load the autoencoder model\n",
        "autoencoder = load_model('../Code/Models/autoencoder_model.h5')\n",
        "\n",
        "# Load the encoder model\n",
        "encoder_model = load_model('../Code/Models/encoder_model.h5')\n",
        "\n",
        "# Load the tokenizer\n",
        "with open('../Code/Models/tokenizer.pickle', 'rb') as handle:\n",
        "    tokenizer = pickle.load(handle)\n",
        "\n",
        "# Load the label encoders\n",
        "label_encoders = joblib.load('../Code/Models/label_encoders.joblib')\n",
        "\n",
        "# Load the scaler\n",
        "scaler = joblib.load('../Code/Models/scaler.joblib')\n"
      ]
    },
    {
      "cell_type": "code",
      "execution_count": 13,
      "metadata": {
        "colab": {
          "base_uri": "https://localhost:8080/"
        },
        "id": "aChxCRfyDH_6",
        "outputId": "25ff45c4-bf0a-4d6f-e987-76a77bb547ac"
      },
      "outputs": [
        {
          "name": "stdout",
          "output_type": "stream",
          "text": [
            "                                 product          category       sub_category  \\\n",
            "1412  Herbal Amla & Reetha Hair Cleanser  Beauty & Hygiene          Hair Care   \n",
            "4114       Shallaki - Tablets (Wellness)  Beauty & Hygiene  Health & Medicine   \n",
            "2322     Fragrance Body Spray - Tranquil  Beauty & Hygiene  Fragrances & Deos   \n",
            "\n",
            "             brand  rating  sale_price  \n",
            "1412  Love In Life   0.875      160.00  \n",
            "4114        Jovees   0.750      136.00  \n",
            "2322  Remy Marquis   0.600      189.05  \n"
          ]
        },
        {
          "name": "stderr",
          "output_type": "stream",
          "text": [
            "/var/folders/fp/tqnwc7rd219_w0rxtd8b8pz00000gn/T/ipykernel_74485/1232832943.py:31: SettingWithCopyWarning: \n",
            "A value is trying to be set on a copy of a slice from a DataFrame.\n",
            "Try using .loc[row_indexer,col_indexer] = value instead\n",
            "\n",
            "See the caveats in the documentation: https://pandas.pydata.org/pandas-docs/stable/user_guide/indexing.html#returning-a-view-versus-a-copy\n",
            "  recommended_items[feature] = label_encoders[feature].inverse_transform(recommended_items[feature])\n",
            "/var/folders/fp/tqnwc7rd219_w0rxtd8b8pz00000gn/T/ipykernel_74485/1232832943.py:31: SettingWithCopyWarning: \n",
            "A value is trying to be set on a copy of a slice from a DataFrame.\n",
            "Try using .loc[row_indexer,col_indexer] = value instead\n",
            "\n",
            "See the caveats in the documentation: https://pandas.pydata.org/pandas-docs/stable/user_guide/indexing.html#returning-a-view-versus-a-copy\n",
            "  recommended_items[feature] = label_encoders[feature].inverse_transform(recommended_items[feature])\n",
            "/var/folders/fp/tqnwc7rd219_w0rxtd8b8pz00000gn/T/ipykernel_74485/1232832943.py:31: SettingWithCopyWarning: \n",
            "A value is trying to be set on a copy of a slice from a DataFrame.\n",
            "Try using .loc[row_indexer,col_indexer] = value instead\n",
            "\n",
            "See the caveats in the documentation: https://pandas.pydata.org/pandas-docs/stable/user_guide/indexing.html#returning-a-view-versus-a-copy\n",
            "  recommended_items[feature] = label_encoders[feature].inverse_transform(recommended_items[feature])\n"
          ]
        }
      ],
      "source": [
        "def get_recommendations_for_product(product_name, data, similarity_matrix, label_encoders, top_k=3):\n",
        "    # Find the index of the product\n",
        "    product_indices = data[data['product'].str.contains(product_name, case=False, na=False)].index\n",
        "    if not product_indices.empty:\n",
        "        product_index = product_indices[0]\n",
        "    else:\n",
        "        return f\"No product found matching name '{product_name}'\"\n",
        "\n",
        "    # Generate recommendations\n",
        "    recommended_items = recommend_items(product_index, similarity_matrix, data, label_encoders, top_k=top_k)\n",
        "\n",
        "    # Return recommended product details\n",
        "    return recommended_items[['product', 'category', 'sub_category', 'brand', 'rating','sale_price']]\n",
        "\n",
        "# Example usage\n",
        "product_name = 'Skin Oil'\n",
        "recommendations = get_recommendations_for_product(product_name, data, similarity_matrix, label_encoders, top_k=3)\n",
        "print(recommendations)\n"
      ]
    },
    {
      "cell_type": "code",
      "execution_count": null,
      "metadata": {
        "id": "q4KgDMeoD0yu"
      },
      "outputs": [],
      "source": []
    }
  ],
  "metadata": {
    "accelerator": "GPU",
    "colab": {
      "gpuType": "T4",
      "provenance": []
    },
    "kaggle": {
      "accelerator": "tpu1vmV38",
      "dataSources": [
        {
          "datasetId": 4417905,
          "sourceId": 7589743,
          "sourceType": "datasetVersion"
        }
      ],
      "isGpuEnabled": false,
      "isInternetEnabled": true,
      "language": "python",
      "sourceType": "notebook"
    },
    "kernelspec": {
      "display_name": "Python 3",
      "name": "python3"
    },
    "language_info": {
      "codemirror_mode": {
        "name": "ipython",
        "version": 3
      },
      "file_extension": ".py",
      "mimetype": "text/x-python",
      "name": "python",
      "nbconvert_exporter": "python",
      "pygments_lexer": "ipython3",
      "version": "3.11.6"
    }
  },
  "nbformat": 4,
  "nbformat_minor": 0
}
