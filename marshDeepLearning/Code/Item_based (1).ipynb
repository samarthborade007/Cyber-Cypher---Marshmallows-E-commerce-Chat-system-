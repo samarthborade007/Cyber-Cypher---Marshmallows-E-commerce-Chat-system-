{
  "metadata": {
    "kernelspec": {
      "display_name": "Python 3",
      "name": "python3"
    },
    "language_info": {
      "pygments_lexer": "ipython3",
      "nbconvert_exporter": "python",
      "version": "3.6.4",
      "file_extension": ".py",
      "codemirror_mode": {
        "name": "ipython",
        "version": 3
      },
      "name": "python",
      "mimetype": "text/x-python"
    },
    "kaggle": {
      "accelerator": "tpu1vmV38",
      "dataSources": [
        {
          "sourceId": 7589743,
          "sourceType": "datasetVersion",
          "datasetId": 4417905
        }
      ],
      "isInternetEnabled": true,
      "language": "python",
      "sourceType": "notebook",
      "isGpuEnabled": false
    },
    "colab": {
      "provenance": [],
      "gpuType": "T4"
    },
    "accelerator": "GPU"
  },
  "nbformat_minor": 0,
  "nbformat": 4,
  "cells": [
    {
      "cell_type": "code",
      "source": [
        "import pandas as pd\n",
        "from sklearn.feature_extraction.text import TfidfVectorizer\n",
        "from sklearn.metrics.pairwise import linear_kernel\n",
        "from sklearn.preprocessing import MinMaxScaler\n",
        "import pandas as pd\n",
        "from sklearn.preprocessing import LabelEncoder, MinMaxScaler\n",
        "from sklearn.model_selection import train_test_split\n",
        "from sklearn.feature_extraction.text import TfidfVectorizer\n",
        "from tensorflow.keras.preprocessing.sequence import pad_sequences\n",
        "from tensorflow.keras.preprocessing.text import Tokenizer\n",
        "\n",
        "# Load the dataset\n",
        "file_path = '/content/BigBasket Products.csv'\n",
        "data = pd.read_csv(file_path)\n",
        "\n",
        "# Display the first few rows of the dataset to understand its structure\n",
        "data.head()\n"
      ],
      "metadata": {
        "_uuid": "8f2839f25d086af736a60e9eeb907d3b93b6e0e5",
        "_cell_guid": "b1076dfc-b9ad-4769-8c92-a6c4dae69d19",
        "trusted": true,
        "colab": {
          "base_uri": "https://localhost:8080/",
          "height": 397
        },
        "id": "p623_W7Bqjnu",
        "outputId": "3ebfd179-97bf-48e8-db73-1705a7527c53"
      },
      "execution_count": 24,
      "outputs": [
        {
          "output_type": "execute_result",
          "data": {
            "text/plain": [
              "   index                                            product  \\\n",
              "0      1             Garlic Oil - Vegetarian Capsule 500 mg   \n",
              "1      2                              Water Bottle - Orange   \n",
              "2      3                     Brass Angle Deep - Plain, No.2   \n",
              "3      4  Cereal Flip Lid Container/Storage Jar - Assort...   \n",
              "4      5                 Creme Soft Soap - For Hands & Body   \n",
              "\n",
              "                 category           sub_category              brand  \\\n",
              "0        Beauty & Hygiene              Hair Care  Sri Sri Ayurveda    \n",
              "1  Kitchen, Garden & Pets  Storage & Accessories         Mastercook   \n",
              "2    Cleaning & Household            Pooja Needs                Trm   \n",
              "3    Cleaning & Household   Bins & Bathroom Ware             Nakoda   \n",
              "4        Beauty & Hygiene       Bath & Hand Wash              Nivea   \n",
              "\n",
              "   sale_price  market_price                      type  rating  \\\n",
              "0       220.0         220.0          Hair Oil & Serum     4.1   \n",
              "1       180.0         180.0    Water & Fridge Bottles     2.3   \n",
              "2       119.0         250.0           Lamp & Lamp Oil     3.4   \n",
              "3       149.0         176.0  Laundry, Storage Baskets     3.7   \n",
              "4       162.0         162.0      Bathing Bars & Soaps     4.4   \n",
              "\n",
              "                                         description  \n",
              "0  This Product contains Garlic Oil that is known...  \n",
              "1  Each product is microwave safe (without lid), ...  \n",
              "2  A perfect gift for all occasions, be it your m...  \n",
              "3  Multipurpose container with an attractive desi...  \n",
              "4  Nivea Creme Soft Soap gives your skin the best...  "
            ],
            "text/html": [
              "\n",
              "  <div id=\"df-97647f0d-49c1-4ac3-b1b7-f88985deec84\" class=\"colab-df-container\">\n",
              "    <div>\n",
              "<style scoped>\n",
              "    .dataframe tbody tr th:only-of-type {\n",
              "        vertical-align: middle;\n",
              "    }\n",
              "\n",
              "    .dataframe tbody tr th {\n",
              "        vertical-align: top;\n",
              "    }\n",
              "\n",
              "    .dataframe thead th {\n",
              "        text-align: right;\n",
              "    }\n",
              "</style>\n",
              "<table border=\"1\" class=\"dataframe\">\n",
              "  <thead>\n",
              "    <tr style=\"text-align: right;\">\n",
              "      <th></th>\n",
              "      <th>index</th>\n",
              "      <th>product</th>\n",
              "      <th>category</th>\n",
              "      <th>sub_category</th>\n",
              "      <th>brand</th>\n",
              "      <th>sale_price</th>\n",
              "      <th>market_price</th>\n",
              "      <th>type</th>\n",
              "      <th>rating</th>\n",
              "      <th>description</th>\n",
              "    </tr>\n",
              "  </thead>\n",
              "  <tbody>\n",
              "    <tr>\n",
              "      <th>0</th>\n",
              "      <td>1</td>\n",
              "      <td>Garlic Oil - Vegetarian Capsule 500 mg</td>\n",
              "      <td>Beauty &amp; Hygiene</td>\n",
              "      <td>Hair Care</td>\n",
              "      <td>Sri Sri Ayurveda</td>\n",
              "      <td>220.0</td>\n",
              "      <td>220.0</td>\n",
              "      <td>Hair Oil &amp; Serum</td>\n",
              "      <td>4.1</td>\n",
              "      <td>This Product contains Garlic Oil that is known...</td>\n",
              "    </tr>\n",
              "    <tr>\n",
              "      <th>1</th>\n",
              "      <td>2</td>\n",
              "      <td>Water Bottle - Orange</td>\n",
              "      <td>Kitchen, Garden &amp; Pets</td>\n",
              "      <td>Storage &amp; Accessories</td>\n",
              "      <td>Mastercook</td>\n",
              "      <td>180.0</td>\n",
              "      <td>180.0</td>\n",
              "      <td>Water &amp; Fridge Bottles</td>\n",
              "      <td>2.3</td>\n",
              "      <td>Each product is microwave safe (without lid), ...</td>\n",
              "    </tr>\n",
              "    <tr>\n",
              "      <th>2</th>\n",
              "      <td>3</td>\n",
              "      <td>Brass Angle Deep - Plain, No.2</td>\n",
              "      <td>Cleaning &amp; Household</td>\n",
              "      <td>Pooja Needs</td>\n",
              "      <td>Trm</td>\n",
              "      <td>119.0</td>\n",
              "      <td>250.0</td>\n",
              "      <td>Lamp &amp; Lamp Oil</td>\n",
              "      <td>3.4</td>\n",
              "      <td>A perfect gift for all occasions, be it your m...</td>\n",
              "    </tr>\n",
              "    <tr>\n",
              "      <th>3</th>\n",
              "      <td>4</td>\n",
              "      <td>Cereal Flip Lid Container/Storage Jar - Assort...</td>\n",
              "      <td>Cleaning &amp; Household</td>\n",
              "      <td>Bins &amp; Bathroom Ware</td>\n",
              "      <td>Nakoda</td>\n",
              "      <td>149.0</td>\n",
              "      <td>176.0</td>\n",
              "      <td>Laundry, Storage Baskets</td>\n",
              "      <td>3.7</td>\n",
              "      <td>Multipurpose container with an attractive desi...</td>\n",
              "    </tr>\n",
              "    <tr>\n",
              "      <th>4</th>\n",
              "      <td>5</td>\n",
              "      <td>Creme Soft Soap - For Hands &amp; Body</td>\n",
              "      <td>Beauty &amp; Hygiene</td>\n",
              "      <td>Bath &amp; Hand Wash</td>\n",
              "      <td>Nivea</td>\n",
              "      <td>162.0</td>\n",
              "      <td>162.0</td>\n",
              "      <td>Bathing Bars &amp; Soaps</td>\n",
              "      <td>4.4</td>\n",
              "      <td>Nivea Creme Soft Soap gives your skin the best...</td>\n",
              "    </tr>\n",
              "  </tbody>\n",
              "</table>\n",
              "</div>\n",
              "    <div class=\"colab-df-buttons\">\n",
              "\n",
              "  <div class=\"colab-df-container\">\n",
              "    <button class=\"colab-df-convert\" onclick=\"convertToInteractive('df-97647f0d-49c1-4ac3-b1b7-f88985deec84')\"\n",
              "            title=\"Convert this dataframe to an interactive table.\"\n",
              "            style=\"display:none;\">\n",
              "\n",
              "  <svg xmlns=\"http://www.w3.org/2000/svg\" height=\"24px\" viewBox=\"0 -960 960 960\">\n",
              "    <path d=\"M120-120v-720h720v720H120Zm60-500h600v-160H180v160Zm220 220h160v-160H400v160Zm0 220h160v-160H400v160ZM180-400h160v-160H180v160Zm440 0h160v-160H620v160ZM180-180h160v-160H180v160Zm440 0h160v-160H620v160Z\"/>\n",
              "  </svg>\n",
              "    </button>\n",
              "\n",
              "  <style>\n",
              "    .colab-df-container {\n",
              "      display:flex;\n",
              "      gap: 12px;\n",
              "    }\n",
              "\n",
              "    .colab-df-convert {\n",
              "      background-color: #E8F0FE;\n",
              "      border: none;\n",
              "      border-radius: 50%;\n",
              "      cursor: pointer;\n",
              "      display: none;\n",
              "      fill: #1967D2;\n",
              "      height: 32px;\n",
              "      padding: 0 0 0 0;\n",
              "      width: 32px;\n",
              "    }\n",
              "\n",
              "    .colab-df-convert:hover {\n",
              "      background-color: #E2EBFA;\n",
              "      box-shadow: 0px 1px 2px rgba(60, 64, 67, 0.3), 0px 1px 3px 1px rgba(60, 64, 67, 0.15);\n",
              "      fill: #174EA6;\n",
              "    }\n",
              "\n",
              "    .colab-df-buttons div {\n",
              "      margin-bottom: 4px;\n",
              "    }\n",
              "\n",
              "    [theme=dark] .colab-df-convert {\n",
              "      background-color: #3B4455;\n",
              "      fill: #D2E3FC;\n",
              "    }\n",
              "\n",
              "    [theme=dark] .colab-df-convert:hover {\n",
              "      background-color: #434B5C;\n",
              "      box-shadow: 0px 1px 3px 1px rgba(0, 0, 0, 0.15);\n",
              "      filter: drop-shadow(0px 1px 2px rgba(0, 0, 0, 0.3));\n",
              "      fill: #FFFFFF;\n",
              "    }\n",
              "  </style>\n",
              "\n",
              "    <script>\n",
              "      const buttonEl =\n",
              "        document.querySelector('#df-97647f0d-49c1-4ac3-b1b7-f88985deec84 button.colab-df-convert');\n",
              "      buttonEl.style.display =\n",
              "        google.colab.kernel.accessAllowed ? 'block' : 'none';\n",
              "\n",
              "      async function convertToInteractive(key) {\n",
              "        const element = document.querySelector('#df-97647f0d-49c1-4ac3-b1b7-f88985deec84');\n",
              "        const dataTable =\n",
              "          await google.colab.kernel.invokeFunction('convertToInteractive',\n",
              "                                                    [key], {});\n",
              "        if (!dataTable) return;\n",
              "\n",
              "        const docLinkHtml = 'Like what you see? Visit the ' +\n",
              "          '<a target=\"_blank\" href=https://colab.research.google.com/notebooks/data_table.ipynb>data table notebook</a>'\n",
              "          + ' to learn more about interactive tables.';\n",
              "        element.innerHTML = '';\n",
              "        dataTable['output_type'] = 'display_data';\n",
              "        await google.colab.output.renderOutput(dataTable, element);\n",
              "        const docLink = document.createElement('div');\n",
              "        docLink.innerHTML = docLinkHtml;\n",
              "        element.appendChild(docLink);\n",
              "      }\n",
              "    </script>\n",
              "  </div>\n",
              "\n",
              "\n",
              "<div id=\"df-2435a524-6ac5-4f33-a25f-17dd6d9acd2a\">\n",
              "  <button class=\"colab-df-quickchart\" onclick=\"quickchart('df-2435a524-6ac5-4f33-a25f-17dd6d9acd2a')\"\n",
              "            title=\"Suggest charts\"\n",
              "            style=\"display:none;\">\n",
              "\n",
              "<svg xmlns=\"http://www.w3.org/2000/svg\" height=\"24px\"viewBox=\"0 0 24 24\"\n",
              "     width=\"24px\">\n",
              "    <g>\n",
              "        <path d=\"M19 3H5c-1.1 0-2 .9-2 2v14c0 1.1.9 2 2 2h14c1.1 0 2-.9 2-2V5c0-1.1-.9-2-2-2zM9 17H7v-7h2v7zm4 0h-2V7h2v10zm4 0h-2v-4h2v4z\"/>\n",
              "    </g>\n",
              "</svg>\n",
              "  </button>\n",
              "\n",
              "<style>\n",
              "  .colab-df-quickchart {\n",
              "      --bg-color: #E8F0FE;\n",
              "      --fill-color: #1967D2;\n",
              "      --hover-bg-color: #E2EBFA;\n",
              "      --hover-fill-color: #174EA6;\n",
              "      --disabled-fill-color: #AAA;\n",
              "      --disabled-bg-color: #DDD;\n",
              "  }\n",
              "\n",
              "  [theme=dark] .colab-df-quickchart {\n",
              "      --bg-color: #3B4455;\n",
              "      --fill-color: #D2E3FC;\n",
              "      --hover-bg-color: #434B5C;\n",
              "      --hover-fill-color: #FFFFFF;\n",
              "      --disabled-bg-color: #3B4455;\n",
              "      --disabled-fill-color: #666;\n",
              "  }\n",
              "\n",
              "  .colab-df-quickchart {\n",
              "    background-color: var(--bg-color);\n",
              "    border: none;\n",
              "    border-radius: 50%;\n",
              "    cursor: pointer;\n",
              "    display: none;\n",
              "    fill: var(--fill-color);\n",
              "    height: 32px;\n",
              "    padding: 0;\n",
              "    width: 32px;\n",
              "  }\n",
              "\n",
              "  .colab-df-quickchart:hover {\n",
              "    background-color: var(--hover-bg-color);\n",
              "    box-shadow: 0 1px 2px rgba(60, 64, 67, 0.3), 0 1px 3px 1px rgba(60, 64, 67, 0.15);\n",
              "    fill: var(--button-hover-fill-color);\n",
              "  }\n",
              "\n",
              "  .colab-df-quickchart-complete:disabled,\n",
              "  .colab-df-quickchart-complete:disabled:hover {\n",
              "    background-color: var(--disabled-bg-color);\n",
              "    fill: var(--disabled-fill-color);\n",
              "    box-shadow: none;\n",
              "  }\n",
              "\n",
              "  .colab-df-spinner {\n",
              "    border: 2px solid var(--fill-color);\n",
              "    border-color: transparent;\n",
              "    border-bottom-color: var(--fill-color);\n",
              "    animation:\n",
              "      spin 1s steps(1) infinite;\n",
              "  }\n",
              "\n",
              "  @keyframes spin {\n",
              "    0% {\n",
              "      border-color: transparent;\n",
              "      border-bottom-color: var(--fill-color);\n",
              "      border-left-color: var(--fill-color);\n",
              "    }\n",
              "    20% {\n",
              "      border-color: transparent;\n",
              "      border-left-color: var(--fill-color);\n",
              "      border-top-color: var(--fill-color);\n",
              "    }\n",
              "    30% {\n",
              "      border-color: transparent;\n",
              "      border-left-color: var(--fill-color);\n",
              "      border-top-color: var(--fill-color);\n",
              "      border-right-color: var(--fill-color);\n",
              "    }\n",
              "    40% {\n",
              "      border-color: transparent;\n",
              "      border-right-color: var(--fill-color);\n",
              "      border-top-color: var(--fill-color);\n",
              "    }\n",
              "    60% {\n",
              "      border-color: transparent;\n",
              "      border-right-color: var(--fill-color);\n",
              "    }\n",
              "    80% {\n",
              "      border-color: transparent;\n",
              "      border-right-color: var(--fill-color);\n",
              "      border-bottom-color: var(--fill-color);\n",
              "    }\n",
              "    90% {\n",
              "      border-color: transparent;\n",
              "      border-bottom-color: var(--fill-color);\n",
              "    }\n",
              "  }\n",
              "</style>\n",
              "\n",
              "  <script>\n",
              "    async function quickchart(key) {\n",
              "      const quickchartButtonEl =\n",
              "        document.querySelector('#' + key + ' button');\n",
              "      quickchartButtonEl.disabled = true;  // To prevent multiple clicks.\n",
              "      quickchartButtonEl.classList.add('colab-df-spinner');\n",
              "      try {\n",
              "        const charts = await google.colab.kernel.invokeFunction(\n",
              "            'suggestCharts', [key], {});\n",
              "      } catch (error) {\n",
              "        console.error('Error during call to suggestCharts:', error);\n",
              "      }\n",
              "      quickchartButtonEl.classList.remove('colab-df-spinner');\n",
              "      quickchartButtonEl.classList.add('colab-df-quickchart-complete');\n",
              "    }\n",
              "    (() => {\n",
              "      let quickchartButtonEl =\n",
              "        document.querySelector('#df-2435a524-6ac5-4f33-a25f-17dd6d9acd2a button');\n",
              "      quickchartButtonEl.style.display =\n",
              "        google.colab.kernel.accessAllowed ? 'block' : 'none';\n",
              "    })();\n",
              "  </script>\n",
              "</div>\n",
              "\n",
              "    </div>\n",
              "  </div>\n"
            ]
          },
          "metadata": {},
          "execution_count": 24
        }
      ]
    },
    {
      "cell_type": "code",
      "source": [
        "# Checking for missing values\n",
        "missing_values = data.isnull().sum()\n",
        "\n",
        "# Checking for duplicate entries\n",
        "duplicate_entries = data.duplicated().sum()\n",
        "\n",
        "# Overview of the rating distribution\n",
        "rating_distribution = data['rating'].describe()\n",
        "\n",
        "missing_values, duplicate_entries, rating_distribution\n"
      ],
      "metadata": {
        "colab": {
          "base_uri": "https://localhost:8080/"
        },
        "id": "RLkR4jReqjnw",
        "outputId": "e66aa7f5-ebfc-452f-ad05-415bb5a25e9c"
      },
      "execution_count": 25,
      "outputs": [
        {
          "output_type": "execute_result",
          "data": {
            "text/plain": [
              "(index              0\n",
              " product            1\n",
              " category           0\n",
              " sub_category       0\n",
              " brand              1\n",
              " sale_price         1\n",
              " market_price       1\n",
              " type               1\n",
              " rating          5958\n",
              " description       81\n",
              " dtype: int64,\n",
              " 0,\n",
              " count    12987.000000\n",
              " mean         3.938654\n",
              " std          0.744717\n",
              " min          1.000000\n",
              " 25%          3.700000\n",
              " 50%          4.100000\n",
              " 75%          4.300000\n",
              " max          5.000000\n",
              " Name: rating, dtype: float64)"
            ]
          },
          "metadata": {},
          "execution_count": 25
        }
      ]
    },
    {
      "cell_type": "code",
      "source": [
        "\n",
        "# Drop rows with missing 'rating' as they are critical for popularity-based recommendations\n",
        "data.dropna(subset=['rating'], inplace=True)\n",
        "\n",
        "categorical_features = ['category','sub_category','brand']\n",
        "label_encoders = {}\n",
        "\n",
        "for feature in categorical_features:\n",
        "    le = LabelEncoder()\n",
        "    data[feature] = le.fit_transform(data[feature].astype(str))  # Use 'le' instead of 'encoder'\n",
        "    label_encoders[feature] = le\n",
        "\n",
        "data['description'] = data['description'].astype(str)\n",
        "\n",
        "# Now, proceed with tokenizing the text data\n",
        "tokenizer = Tokenizer()\n",
        "tokenizer.fit_on_texts(data['description'])\n",
        "text_sequences = tokenizer.texts_to_sequences(data['description'])\n",
        "text_padded = pad_sequences(text_sequences, maxlen=100)\n",
        "\n",
        "# Normalize numerical features\n",
        "scaler = MinMaxScaler()\n",
        "data['rating'] = scaler.fit_transform(data[['rating']])\n",
        "\n",
        "# Split data into training and test sets\n",
        "X_train, X_test, y_train, y_test = train_test_split(text_padded, data['rating'], test_size=0.2, random_state=42)\n"
      ],
      "metadata": {
        "id": "n4euO5RQqjnx"
      },
      "execution_count": 26,
      "outputs": []
    },
    {
      "cell_type": "code",
      "source": [
        "import tensorflow as tf\n",
        "from tensorflow.keras.models import Model\n",
        "from tensorflow.keras.layers import Input, Dense, Embedding, Flatten, Dropout\n",
        "\n",
        "input_dim = text_padded.shape[1]  # This is the maxlen of your text sequences\n",
        "\n",
        "# Define the encoder\n",
        "input_layer = Input(shape=(input_dim,))\n",
        "encoded = Dense(128, activation='relu')(input_layer)\n",
        "encoded = Dense(64, activation='relu')(encoded)\n",
        "\n",
        "# Define the decoder\n",
        "decoded = Dense(64, activation='relu')(encoded)\n",
        "decoded = Dense(128, activation='relu')(decoded)\n",
        "output_layer = Dense(input_dim, activation='sigmoid')(decoded)\n",
        "\n",
        "# Compile the autoencoder\n",
        "autoencoder = Model(input_layer, output_layer)\n",
        "autoencoder.compile(optimizer='adam', loss='binary_crossentropy')\n",
        "\n",
        "# Summary of the model\n",
        "autoencoder.summary()\n"
      ],
      "metadata": {
        "colab": {
          "base_uri": "https://localhost:8080/"
        },
        "id": "1Sc0bOzxqjnx",
        "outputId": "5742f897-db7d-4dac-c1e7-9100f7fde3dc"
      },
      "execution_count": 27,
      "outputs": [
        {
          "output_type": "stream",
          "name": "stdout",
          "text": [
            "Model: \"model_4\"\n",
            "_________________________________________________________________\n",
            " Layer (type)                Output Shape              Param #   \n",
            "=================================================================\n",
            " input_3 (InputLayer)        [(None, 100)]             0         \n",
            "                                                                 \n",
            " dense_10 (Dense)            (None, 128)               12928     \n",
            "                                                                 \n",
            " dense_11 (Dense)            (None, 64)                8256      \n",
            "                                                                 \n",
            " dense_12 (Dense)            (None, 64)                4160      \n",
            "                                                                 \n",
            " dense_13 (Dense)            (None, 128)               8320      \n",
            "                                                                 \n",
            " dense_14 (Dense)            (None, 100)               12900     \n",
            "                                                                 \n",
            "=================================================================\n",
            "Total params: 46564 (181.89 KB)\n",
            "Trainable params: 46564 (181.89 KB)\n",
            "Non-trainable params: 0 (0.00 Byte)\n",
            "_________________________________________________________________\n"
          ]
        }
      ]
    },
    {
      "cell_type": "code",
      "source": [
        "autoencoder.fit(X_train, X_train, epochs=50, batch_size=256, validation_split=0.2)\n"
      ],
      "metadata": {
        "colab": {
          "base_uri": "https://localhost:8080/"
        },
        "id": "PeuQivYlqjnx",
        "outputId": "c7ddd515-4810-46af-ed11-225f42c86318"
      },
      "execution_count": 28,
      "outputs": [
        {
          "output_type": "stream",
          "name": "stdout",
          "text": [
            "Epoch 1/50\n",
            "33/33 [==============================] - 2s 9ms/step - loss: -16822826.0000 - val_loss: -113450912.0000\n",
            "Epoch 2/50\n",
            "33/33 [==============================] - 0s 5ms/step - loss: -2073578752.0000 - val_loss: -9366234112.0000\n",
            "Epoch 3/50\n",
            "33/33 [==============================] - 0s 5ms/step - loss: -57728086016.0000 - val_loss: -174877147136.0000\n",
            "Epoch 4/50\n",
            "33/33 [==============================] - 0s 5ms/step - loss: -571909144576.0000 - val_loss: -1358683963392.0000\n",
            "Epoch 5/50\n",
            "33/33 [==============================] - 0s 5ms/step - loss: -3192796217344.0000 - val_loss: -6366860673024.0000\n",
            "Epoch 6/50\n",
            "33/33 [==============================] - 0s 5ms/step - loss: -12268139970560.0000 - val_loss: -21696371228672.0000\n",
            "Epoch 7/50\n",
            "33/33 [==============================] - 0s 5ms/step - loss: -36713988620288.0000 - val_loss: -59129670402048.0000\n",
            "Epoch 8/50\n",
            "33/33 [==============================] - 0s 5ms/step - loss: -91393598947328.0000 - val_loss: -137519333113856.0000\n",
            "Epoch 9/50\n",
            "33/33 [==============================] - 0s 5ms/step - loss: -198594237825024.0000 - val_loss: -285446412173312.0000\n",
            "Epoch 10/50\n",
            "33/33 [==============================] - 0s 5ms/step - loss: -390903797645312.0000 - val_loss: -538860454936576.0000\n",
            "Epoch 11/50\n",
            "33/33 [==============================] - 0s 5ms/step - loss: -710200021483520.0000 - val_loss: -947299463200768.0000\n",
            "Epoch 12/50\n",
            "33/33 [==============================] - 0s 5ms/step - loss: -1210835837911040.0000 - val_loss: -1575951678832640.0000\n",
            "Epoch 13/50\n",
            "33/33 [==============================] - 0s 5ms/step - loss: -1966374809239552.0000 - val_loss: -2492372206223360.0000\n",
            "Epoch 14/50\n",
            "33/33 [==============================] - 0s 5ms/step - loss: -3043956334002176.0000 - val_loss: -3793302230925312.0000\n",
            "Epoch 15/50\n",
            "33/33 [==============================] - 0s 5ms/step - loss: -4542887303839744.0000 - val_loss: -5569528368988160.0000\n",
            "Epoch 16/50\n",
            "33/33 [==============================] - 0s 5ms/step - loss: -6580029483909120.0000 - val_loss: -7951167191515136.0000\n",
            "Epoch 17/50\n",
            "33/33 [==============================] - 0s 5ms/step - loss: -9272745271492608.0000 - val_loss: -11090346440130560.0000\n",
            "Epoch 18/50\n",
            "33/33 [==============================] - 0s 5ms/step - loss: -12750637989101568.0000 - val_loss: -15061210135265280.0000\n",
            "Epoch 19/50\n",
            "33/33 [==============================] - 0s 5ms/step - loss: -17162249080668160.0000 - val_loss: -20114175808241664.0000\n",
            "Epoch 20/50\n",
            "33/33 [==============================] - 0s 5ms/step - loss: -22701109772550144.0000 - val_loss: -26338371546644480.0000\n",
            "Epoch 21/50\n",
            "33/33 [==============================] - 0s 5ms/step - loss: -29542273268056064.0000 - val_loss: -34028308626669568.0000\n",
            "Epoch 22/50\n",
            "33/33 [==============================] - 0s 5ms/step - loss: -37869628591964160.0000 - val_loss: -43398686020993024.0000\n",
            "Epoch 23/50\n",
            "33/33 [==============================] - 0s 5ms/step - loss: -47948138719215616.0000 - val_loss: -54457556793294848.0000\n",
            "Epoch 24/50\n",
            "33/33 [==============================] - 0s 5ms/step - loss: -59927416688082944.0000 - val_loss: -67660672808255488.0000\n",
            "Epoch 25/50\n",
            "33/33 [==============================] - 0s 5ms/step - loss: -74184659411402752.0000 - val_loss: -83346795316379648.0000\n",
            "Epoch 26/50\n",
            "33/33 [==============================] - 0s 5ms/step - loss: -90847904159236096.0000 - val_loss: -101593534376706048.0000\n",
            "Epoch 27/50\n",
            "33/33 [==============================] - 0s 5ms/step - loss: -110246098181816320.0000 - val_loss: -122844869348556800.0000\n",
            "Epoch 28/50\n",
            "33/33 [==============================] - 0s 5ms/step - loss: -132671187586121728.0000 - val_loss: -147236409529335808.0000\n",
            "Epoch 29/50\n",
            "33/33 [==============================] - 0s 5ms/step - loss: -158445157480398848.0000 - val_loss: -175222742847586304.0000\n",
            "Epoch 30/50\n",
            "33/33 [==============================] - 0s 5ms/step - loss: -187976871571357696.0000 - val_loss: -207081281240956928.0000\n",
            "Epoch 31/50\n",
            "33/33 [==============================] - 0s 5ms/step - loss: -221462669993967616.0000 - val_loss: -242995660331155456.0000\n",
            "Epoch 32/50\n",
            "33/33 [==============================] - 0s 5ms/step - loss: -259253314137358336.0000 - val_loss: -283542230369566720.0000\n",
            "Epoch 33/50\n",
            "33/33 [==============================] - 0s 5ms/step - loss: -301922731891359744.0000 - val_loss: -329550744678039552.0000\n",
            "Epoch 34/50\n",
            "33/33 [==============================] - 0s 5ms/step - loss: -349708572386394112.0000 - val_loss: -380556676773707776.0000\n",
            "Epoch 35/50\n",
            "33/33 [==============================] - 0s 5ms/step - loss: -402715581284876288.0000 - val_loss: -437678333061234688.0000\n",
            "Epoch 36/50\n",
            "33/33 [==============================] - 0s 5ms/step - loss: -461730012479881216.0000 - val_loss: -500539130808107008.0000\n",
            "Epoch 37/50\n",
            "33/33 [==============================] - 0s 5ms/step - loss: -526994136486641664.0000 - val_loss: -569848873489530880.0000\n",
            "Epoch 38/50\n",
            "33/33 [==============================] - 0s 5ms/step - loss: -598933051988246528.0000 - val_loss: -646408520966602752.0000\n",
            "Epoch 39/50\n",
            "33/33 [==============================] - 0s 5ms/step - loss: -678433789990404096.0000 - val_loss: -730041086226989056.0000\n",
            "Epoch 40/50\n",
            "33/33 [==============================] - 0s 5ms/step - loss: -765088019362349056.0000 - val_loss: -822460398660747264.0000\n",
            "Epoch 41/50\n",
            "33/33 [==============================] - 0s 5ms/step - loss: -860200448089391104.0000 - val_loss: -922420299276746752.0000\n",
            "Epoch 42/50\n",
            "33/33 [==============================] - 0s 5ms/step - loss: -963673906831425536.0000 - val_loss: -1032285493988950016.0000\n",
            "Epoch 43/50\n",
            "33/33 [==============================] - 0s 5ms/step - loss: -1076027846113099776.0000 - val_loss: -1150984508716089344.0000\n",
            "Epoch 44/50\n",
            "33/33 [==============================] - 0s 5ms/step - loss: -1197727428072439808.0000 - val_loss: -1279414407507476480.0000\n",
            "Epoch 45/50\n",
            "33/33 [==============================] - 0s 5ms/step - loss: -1329380201603268608.0000 - val_loss: -1418539187182764032.0000\n",
            "Epoch 46/50\n",
            "33/33 [==============================] - 0s 5ms/step - loss: -1472062451150225408.0000 - val_loss: -1568428872888745984.0000\n",
            "Epoch 47/50\n",
            "33/33 [==============================] - 0s 6ms/step - loss: -1625881379097018368.0000 - val_loss: -1730355874456666112.0000\n",
            "Epoch 48/50\n",
            "33/33 [==============================] - 0s 8ms/step - loss: -1791302491179057152.0000 - val_loss: -1904183852444680192.0000\n",
            "Epoch 49/50\n",
            "33/33 [==============================] - 0s 7ms/step - loss: -1969021778256723968.0000 - val_loss: -2089088310570909696.0000\n",
            "Epoch 50/50\n",
            "33/33 [==============================] - 0s 9ms/step - loss: -2158894379673059328.0000 - val_loss: -2288055659855347712.0000\n"
          ]
        },
        {
          "output_type": "execute_result",
          "data": {
            "text/plain": [
              "<keras.src.callbacks.History at 0x7ffa50505a80>"
            ]
          },
          "metadata": {},
          "execution_count": 28
        }
      ]
    },
    {
      "cell_type": "code",
      "source": [
        "# Extract the encoder part of the autoencoder\n",
        "encoder_model = Model(inputs=autoencoder.input, outputs=autoencoder.layers[-3].output)  # Assuming -3 is the encoded layer\n",
        "\n",
        "# Generate embeddings for the entire dataset\n",
        "item_embeddings = encoder_model.predict(text_padded)\n"
      ],
      "metadata": {
        "colab": {
          "base_uri": "https://localhost:8080/"
        },
        "id": "Nm-e0xv4qjnx",
        "outputId": "7fece479-f655-4137-f362-cb039007e520"
      },
      "execution_count": 29,
      "outputs": [
        {
          "output_type": "stream",
          "name": "stdout",
          "text": [
            "406/406 [==============================] - 1s 2ms/step\n"
          ]
        }
      ]
    },
    {
      "cell_type": "code",
      "source": [
        "def recommend_items(item_id, similarity_matrix, items, label_encoders, top_k=3):\n",
        "    # Fetch the category of the specified item\n",
        "    item_category = items.iloc[item_id]['category']\n",
        "\n",
        "    # Get similarity scores for the item\n",
        "    similarity_scores = list(enumerate(similarity_matrix[item_id]))\n",
        "\n",
        "    # Sort the items based on the similarity scores\n",
        "    similarity_scores = sorted(similarity_scores, key=lambda x: x[1], reverse=True)\n",
        "\n",
        "    # Initialize a list to hold indices of items that match the category constraint\n",
        "    filtered_indices = []\n",
        "\n",
        "    # Iterate over sorted similarity scores and filter by category\n",
        "    for idx, score in similarity_scores:\n",
        "        if items.iloc[idx]['category'] == item_category and idx != item_id:\n",
        "            filtered_indices.append(idx)\n",
        "        if len(filtered_indices) == top_k:\n",
        "            break\n",
        "\n",
        "    # Fetch the recommended items\n",
        "    recommended_items = items.iloc[filtered_indices]\n",
        "\n",
        "    # Decode the categorical features for readability\n",
        "    for feature in ['category', 'sub_category', 'brand']:\n",
        "        recommended_items[feature] = label_encoders[feature].inverse_transform(recommended_items[feature])\n",
        "\n",
        "    # Sort the recommended items in descending order of rating\n",
        "    recommended_items_sorted = recommended_items.sort_values(by='rating', ascending=False)\n",
        "\n",
        "    return recommended_items_sorted\n"
      ],
      "metadata": {
        "id": "5xU2JziVqjnx"
      },
      "execution_count": 35,
      "outputs": []
    },
    {
      "cell_type": "code",
      "source": [
        "# Updated example usage\n",
        "recommended_items = recommend_items(6, similarity_matrix, data, label_encoders, top_k=3)\n",
        "print(recommended_items[['product', 'category', 'sub_category', 'brand', 'rating']])\n"
      ],
      "metadata": {
        "colab": {
          "base_uri": "https://localhost:8080/"
        },
        "id": "1J04n5kZxz5T",
        "outputId": "f009e085-7091-471f-9f07-8f65d415c48e"
      },
      "execution_count": 36,
      "outputs": [
        {
          "output_type": "stream",
          "name": "stdout",
          "text": [
            "                                        product          category  \\\n",
            "259  Aeda Glycerine Bathing Bar - Natural Green  Beauty & Hygiene   \n",
            "186             Herbal Wine Grapefruit Lip Balm  Beauty & Hygiene   \n",
            "354                 Active Fresh Gel Toothpaste  Beauty & Hygiene   \n",
            "\n",
            "         sub_category             brand  rating  \n",
            "259  Bath & Hand Wash  K.P. Namboodiris   0.925  \n",
            "186         Skin Care     Khadi Natural   0.850  \n",
            "354         Oral Care          Himalaya   0.825  \n"
          ]
        },
        {
          "output_type": "stream",
          "name": "stderr",
          "text": [
            "<ipython-input-35-dba5e3d2ea98>:26: SettingWithCopyWarning: \n",
            "A value is trying to be set on a copy of a slice from a DataFrame.\n",
            "Try using .loc[row_indexer,col_indexer] = value instead\n",
            "\n",
            "See the caveats in the documentation: https://pandas.pydata.org/pandas-docs/stable/user_guide/indexing.html#returning-a-view-versus-a-copy\n",
            "  recommended_items[feature] = label_encoders[feature].inverse_transform(recommended_items[feature])\n",
            "<ipython-input-35-dba5e3d2ea98>:26: SettingWithCopyWarning: \n",
            "A value is trying to be set on a copy of a slice from a DataFrame.\n",
            "Try using .loc[row_indexer,col_indexer] = value instead\n",
            "\n",
            "See the caveats in the documentation: https://pandas.pydata.org/pandas-docs/stable/user_guide/indexing.html#returning-a-view-versus-a-copy\n",
            "  recommended_items[feature] = label_encoders[feature].inverse_transform(recommended_items[feature])\n",
            "<ipython-input-35-dba5e3d2ea98>:26: SettingWithCopyWarning: \n",
            "A value is trying to be set on a copy of a slice from a DataFrame.\n",
            "Try using .loc[row_indexer,col_indexer] = value instead\n",
            "\n",
            "See the caveats in the documentation: https://pandas.pydata.org/pandas-docs/stable/user_guide/indexing.html#returning-a-view-versus-a-copy\n",
            "  recommended_items[feature] = label_encoders[feature].inverse_transform(recommended_items[feature])\n"
          ]
        }
      ]
    },
    {
      "cell_type": "code",
      "source": [
        "# Evaluate the model on the test set\n",
        "test_loss = autoencoder.evaluate(X_test, X_test)\n",
        "print(f'Test Loss: {test_loss}')\n"
      ],
      "metadata": {
        "colab": {
          "base_uri": "https://localhost:8080/"
        },
        "id": "xl5y288lqjny",
        "outputId": "f9fe4b34-8b85-4fc3-debf-9c377eafbe9a"
      },
      "execution_count": 32,
      "outputs": [
        {
          "output_type": "stream",
          "name": "stdout",
          "text": [
            "82/82 [==============================] - 0s 2ms/step - loss: -2179261870504935424.0000\n",
            "Test Loss: -2.1792618705049354e+18\n"
          ]
        }
      ]
    },
    {
      "cell_type": "code",
      "source": [
        "item_0_data = data.iloc[0]\n",
        "item_0_data"
      ],
      "metadata": {
        "colab": {
          "base_uri": "https://localhost:8080/"
        },
        "id": "M4Fpq6emxj9c",
        "outputId": "8dbb722c-4528-4ed1-e42b-7e183fa8e1bb"
      },
      "execution_count": 33,
      "outputs": [
        {
          "output_type": "execute_result",
          "data": {
            "text/plain": [
              "index                                                           1\n",
              "product                    Garlic Oil - Vegetarian Capsule 500 mg\n",
              "category                                                        2\n",
              "sub_category                                                   42\n",
              "brand                                                        1489\n",
              "sale_price                                                  220.0\n",
              "market_price                                                220.0\n",
              "type                                             Hair Oil & Serum\n",
              "rating                                                      0.775\n",
              "description     This Product contains Garlic Oil that is known...\n",
              "Name: 0, dtype: object"
            ]
          },
          "metadata": {},
          "execution_count": 33
        }
      ]
    },
    {
      "cell_type": "code",
      "source": [
        "from tensorflow.keras.models import load_model\n",
        "import joblib\n",
        "import pickle\n",
        "\n",
        "# Save the autoencoder model\n",
        "autoencoder.save('/content/autoencoder_model.h5')  # Adjust path as needed\n",
        "\n",
        "# Save the encoder part of the model\n",
        "encoder_model.save('/content/encoder_model.h5')  # Adjust path as needed\n",
        "\n",
        "# Save the tokenizer\n",
        "with open('/content/tokenizer.pickle', 'wb') as handle:\n",
        "    pickle.dump(tokenizer, handle, protocol=pickle.HIGHEST_PROTOCOL)\n",
        "\n",
        "# Save the label encoders\n",
        "joblib.dump(label_encoders, '/content/label_encoders.joblib')\n",
        "\n",
        "# Save the scaler\n",
        "joblib.dump(scaler, '/content/scaler.joblib')\n"
      ],
      "metadata": {
        "colab": {
          "base_uri": "https://localhost:8080/"
        },
        "id": "btBOfVH8xk9o",
        "outputId": "f8d16e22-7726-4c73-d1f6-d50548b60ab4"
      },
      "execution_count": 38,
      "outputs": [
        {
          "output_type": "stream",
          "name": "stderr",
          "text": [
            "/usr/local/lib/python3.10/dist-packages/keras/src/engine/training.py:3103: UserWarning: You are saving your model as an HDF5 file via `model.save()`. This file format is considered legacy. We recommend using instead the native Keras format, e.g. `model.save('my_model.keras')`.\n",
            "  saving_api.save_model(\n",
            "WARNING:tensorflow:Compiled the loaded model, but the compiled metrics have yet to be built. `model.compile_metrics` will be empty until you train or evaluate the model.\n"
          ]
        },
        {
          "output_type": "execute_result",
          "data": {
            "text/plain": [
              "['/content/scaler.joblib']"
            ]
          },
          "metadata": {},
          "execution_count": 38
        }
      ]
    },
    {
      "cell_type": "code",
      "source": [
        "# Load the autoencoder model\n",
        "autoencoder = load_model('/content/autoencoder_model.h5')\n",
        "\n",
        "# Load the encoder model\n",
        "encoder_model = load_model('/content/encoder_model.h5')\n",
        "\n",
        "# Load the tokenizer\n",
        "with open('/content/tokenizer.pickle', 'rb') as handle:\n",
        "    tokenizer = pickle.load(handle)\n",
        "\n",
        "# Load the label encoders\n",
        "label_encoders = joblib.load('/content/label_encoders.joblib')\n",
        "\n",
        "# Load the scaler\n",
        "scaler = joblib.load('/content/scaler.joblib')\n"
      ],
      "metadata": {
        "colab": {
          "base_uri": "https://localhost:8080/"
        },
        "id": "2JakQXVFC8Ap",
        "outputId": "fcdf13ce-e8de-469a-e265-629388bdf6a7"
      },
      "execution_count": 39,
      "outputs": [
        {
          "output_type": "stream",
          "name": "stderr",
          "text": [
            "WARNING:tensorflow:No training configuration found in the save file, so the model was *not* compiled. Compile it manually.\n"
          ]
        }
      ]
    },
    {
      "cell_type": "code",
      "source": [
        "def get_recommendations_for_product(product_name, data, similarity_matrix, label_encoders, top_k=3):\n",
        "    # Find the index of the product\n",
        "    product_indices = data[data['product'].str.contains(product_name, case=False, na=False)].index\n",
        "    if not product_indices.empty:\n",
        "        product_index = product_indices[0]\n",
        "    else:\n",
        "        return f\"No product found matching name '{product_name}'\"\n",
        "\n",
        "    # Generate recommendations\n",
        "    recommended_items = recommend_items(product_index, similarity_matrix, data, label_encoders, top_k=top_k)\n",
        "\n",
        "    # Return recommended product details\n",
        "    return recommended_items[['product', 'category', 'sub_category', 'brand', 'rating']]\n",
        "\n",
        "# Example usage\n",
        "product_name = 'Skin Oil'\n",
        "recommendations = get_recommendations_for_product(product_name, data, similarity_matrix, label_encoders, top_k=3)\n",
        "print(recommendations)\n"
      ],
      "metadata": {
        "colab": {
          "base_uri": "https://localhost:8080/"
        },
        "id": "aChxCRfyDH_6",
        "outputId": "7ac6c818-e5c1-4888-d479-90f7e975d661"
      },
      "execution_count": 43,
      "outputs": [
        {
          "output_type": "stream",
          "name": "stdout",
          "text": [
            "                                product          category      sub_category  \\\n",
            "224  Pure Neem Skin Purifying Face Wash  Beauty & Hygiene         Skin Care   \n",
            "247           Skincare Hand Wash Refill  Beauty & Hygiene  Bath & Hand Wash   \n",
            "6                          Multani Mati  Beauty & Hygiene         Skin Care   \n",
            "\n",
            "         brand  rating  \n",
            "224        Joy   0.825  \n",
            "247     Dettol   0.825  \n",
            "6    Satinance   0.650  \n"
          ]
        },
        {
          "output_type": "stream",
          "name": "stderr",
          "text": [
            "<ipython-input-35-dba5e3d2ea98>:26: SettingWithCopyWarning: \n",
            "A value is trying to be set on a copy of a slice from a DataFrame.\n",
            "Try using .loc[row_indexer,col_indexer] = value instead\n",
            "\n",
            "See the caveats in the documentation: https://pandas.pydata.org/pandas-docs/stable/user_guide/indexing.html#returning-a-view-versus-a-copy\n",
            "  recommended_items[feature] = label_encoders[feature].inverse_transform(recommended_items[feature])\n",
            "<ipython-input-35-dba5e3d2ea98>:26: SettingWithCopyWarning: \n",
            "A value is trying to be set on a copy of a slice from a DataFrame.\n",
            "Try using .loc[row_indexer,col_indexer] = value instead\n",
            "\n",
            "See the caveats in the documentation: https://pandas.pydata.org/pandas-docs/stable/user_guide/indexing.html#returning-a-view-versus-a-copy\n",
            "  recommended_items[feature] = label_encoders[feature].inverse_transform(recommended_items[feature])\n",
            "<ipython-input-35-dba5e3d2ea98>:26: SettingWithCopyWarning: \n",
            "A value is trying to be set on a copy of a slice from a DataFrame.\n",
            "Try using .loc[row_indexer,col_indexer] = value instead\n",
            "\n",
            "See the caveats in the documentation: https://pandas.pydata.org/pandas-docs/stable/user_guide/indexing.html#returning-a-view-versus-a-copy\n",
            "  recommended_items[feature] = label_encoders[feature].inverse_transform(recommended_items[feature])\n"
          ]
        }
      ]
    },
    {
      "cell_type": "code",
      "source": [],
      "metadata": {
        "id": "q4KgDMeoD0yu"
      },
      "execution_count": null,
      "outputs": []
    }
  ]
}